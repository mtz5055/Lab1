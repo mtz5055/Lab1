{
  "nbformat": 4,
  "nbformat_minor": 0,
  "metadata": {
    "colab": {
      "name": "Lab1SRA268",
      "provenance": []
    },
    "kernelspec": {
      "name": "python3",
      "display_name": "Python 3"
    }
  },
  "cells": [
    {
      "cell_type": "code",
      "metadata": {
        "id": "151tUPMg8y_C",
        "colab_type": "code",
        "colab": {}
      },
      "source": [
        ""
      ],
      "execution_count": 0,
      "outputs": []
    },
    {
      "cell_type": "markdown",
      "metadata": {
        "id": "SVsFYdcw8_zB",
        "colab_type": "text"
      },
      "source": [
        "### Average Maximum Temperature\n"
      ]
    },
    {
      "cell_type": "markdown",
      "metadata": {
        "id": "tr8jsw1l9L3m",
        "colab_type": "text"
      },
      "source": [
        "### I have decided to make a graph to show the average maximum temperature per month. All of the data is from the State College area in 2017. You should be able to have a general idea of what the high temperatures were like in each month, in this area and year. "
      ]
    },
    {
      "cell_type": "markdown",
      "metadata": {
        "id": "RGhrJjtO_PdX",
        "colab_type": "text"
      },
      "source": [
        "### https://raw.githubusercontent.com/mtz5055/SRA268-Spring20/master/Images/MS%20Paint%20_%20Microsoft%20Paint%20Online-2.png\n"
      ]
    },
    {
      "cell_type": "markdown",
      "metadata": {
        "id": "RWCvbqmg_QfZ",
        "colab_type": "text"
      },
      "source": [
        "### In conclusion, I believe you are now able to give yourself a general idea of how hot it got in the State College area in all months of 2017. It is far from perfect and does not give all of the information, but it is a decent way to just get a quick understanding of the topic.\n"
      ]
    }
  ]
}